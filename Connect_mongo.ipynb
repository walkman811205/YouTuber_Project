{
 "cells": [
  {
   "cell_type": "code",
   "execution_count": null,
   "id": "a621c0f8",
   "metadata": {},
   "outputs": [],
   "source": [
    "!pip install pymongo"
   ]
  },
  {
   "cell_type": "code",
   "execution_count": null,
   "id": "932a3dcd",
   "metadata": {},
   "outputs": [],
   "source": [
    "#用 Mongo Express (192.168.157.134:8081) 查看桶子狀況"
   ]
  },
  {
   "cell_type": "code",
   "execution_count": null,
   "id": "27f07d63",
   "metadata": {},
   "outputs": [],
   "source": [
    "from pymongo import MongoClient\n",
    "\n",
    "# 方法一\n",
    "# host主機名，27017連線埠\n",
    "client = MongoClient(host='192.168.157.134', port=27017)\n",
    "db_auth = client.admin\n",
    "# 登陸的使用者名稱(username)和密碼(password)\n",
    "db_auth.authenticate(\"root\", \"youtube\")\n",
    "# 連線指定資料庫，資料庫名為db_name\n",
    "db_name = client[\"hello_mongo\"]"
   ]
  },
  {
   "cell_type": "code",
   "execution_count": null,
   "id": "f1f5aa9b",
   "metadata": {},
   "outputs": [],
   "source": [
    "# 插入一個json到set1集合中，a_dict是一個字典（如果set1不存在則會被自動建立）\n",
    "db_name.set1.insert_one({\"測試\":1})"
   ]
  }
 ],
 "metadata": {
  "kernelspec": {
   "display_name": "Python 3",
   "language": "python",
   "name": "python3"
  },
  "language_info": {
   "codemirror_mode": {
    "name": "ipython",
    "version": 3
   },
   "file_extension": ".py",
   "mimetype": "text/x-python",
   "name": "python",
   "nbconvert_exporter": "python",
   "pygments_lexer": "ipython3",
   "version": "3.6.8"
  }
 },
 "nbformat": 4,
 "nbformat_minor": 5
}
