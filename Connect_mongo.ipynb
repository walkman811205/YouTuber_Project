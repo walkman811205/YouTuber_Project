{
 "cells": [
  {
   "cell_type": "code",
   "execution_count": null,
   "id": "a621c0f8",
   "metadata": {},
   "outputs": [],
   "source": [
    "!pip install pymongo"
   ]
  },
  {
   "cell_type": "code",
   "execution_count": null,
   "id": "932a3dcd",
   "metadata": {},
   "outputs": [],
   "source": [
    "#用 Mongo Express (192.168.157.134:8081) 查看桶子狀況"
   ]
  },
  {
   "cell_type": "code",
   "execution_count": 24,
   "id": "27f07d63",
   "metadata": {},
   "outputs": [],
   "source": [
    "# from pymongo import MongoClient\n",
    "\n",
    "# # 方法一\n",
    "# # host主機名，27017連線埠\n",
    "# client = MongoClient(host='192.168.157.134', port=27017)\n",
    "# db_auth = client.admin\n",
    "# # 登陸的使用者名稱(username)和密碼(password)\n",
    "# db_auth.authenticate(\"root\", \"youtube\")\n",
    "# # 連線指定資料庫，資料庫名為db_name\n",
    "# db_name = client[\"hello_mongo\"]"
   ]
  },
  {
   "cell_type": "code",
   "execution_count": 69,
   "id": "7e615a91",
   "metadata": {},
   "outputs": [],
   "source": [
    "# 方法一\n",
    "# host主機名，27017連線埠\n",
    "client = MongoClient(host='192.168.157.134', port=27017)\n",
    "db_auth = client.admin\n",
    "# 登陸的使用者名稱(username)和密碼(password)\n",
    "db_auth.authenticate(\"root\", \"youtube\")\n",
    "# 連線指定資料庫，資料庫名為db_name\n",
    "db = client[\"hello_mongo\"]"
   ]
  },
  {
   "cell_type": "code",
   "execution_count": 70,
   "id": "f1f5aa9b",
   "metadata": {},
   "outputs": [
    {
     "data": {
      "text/plain": [
       "<pymongo.results.InsertOneResult at 0x202ebac8c48>"
      ]
     },
     "execution_count": 70,
     "metadata": {},
     "output_type": "execute_result"
    }
   ],
   "source": [
    "# 插入一個json到set1集合中，a_dict是一個字典（如果set1不存在則會被自動建立）\n",
    "db.test.insert_one({\"測試\":1})"
   ]
  },
  {
   "cell_type": "code",
   "execution_count": 51,
   "id": "4ff5bafb",
   "metadata": {},
   "outputs": [],
   "source": [
    "# import jieba\n",
    "import os\n",
    "import glob\n",
    "\n",
    "\n",
    "all_data=[]\n",
    "for filePath in glob.glob('./Beauty/*.txt'):\n",
    "    with open (filePath, 'r', encoding='utf-8') as f:\n",
    "        sb = eval(f.readline())\n",
    "        all_data.append(sb)\n",
    "#         print(sb)\n"
   ]
  },
  {
   "cell_type": "code",
   "execution_count": 68,
   "id": "7772baa1",
   "metadata": {},
   "outputs": [
    {
     "data": {
      "text/plain": [
       "<pymongo.results.InsertManyResult at 0x202ec473948>"
      ]
     },
     "execution_count": 68,
     "metadata": {},
     "output_type": "execute_result"
    }
   ],
   "source": [
    "db.Beauty.insert_many(all_data)"
   ]
  },
  {
   "cell_type": "code",
   "execution_count": 43,
   "id": "f0c08bef",
   "metadata": {
    "scrolled": true
   },
   "outputs": [
    {
     "name": "stdout",
     "output_type": "stream",
     "text": [
      "{'ChannelLink': '/channel/UCX-yj8EcJpokdzwT9zcO6AA', 'ChannelName': '居妮Ginny Daily', 'Comments': '106 則留言', 'Desc': \"👉🏻我的膚質是混合肌偏乾、T字油、兩頰乾燥還會小敏感\\n👉🏻更多居妮 https://www.instagram.com/ning3035/\\n訂閱頻道是支持、也能不錯過影片💋\\n\\n░  影片資訊  ░ \\n\\n怡麗絲爾 多效彈潤美肌乳 NT.900(小屈價)\\nhttps://jbeauty.com.tw/tap7p0  \\n\\n資生堂 心機 星魅輕羽粉蜜UV(10號) NT.1149(網購價)\\nhttps://www.shiseido.com.tw/search.as...\\n\\n\\n林三益 雙斜面粉底刷  NT.980(官網價)\\nhttps://www.lsy031.com/\\n\\n紀梵希 新一代魅力4G幻彩蜜粉 5號 NT.1900(網購價)\\n\\n媚比琳 黑眼圈擦擦筆120號 NT.223(樂天網購價)\\nhttps://www.maybelline.com.tw/face/co...\\n\\nA.M fairyland  不關燈立體小顏修飾盤 NT.880(官網價)\\nhttps://www.alicemakeup.co/products/a...\\n\\nKATE 凝色柔滑眼線膠筆 BR-1棕 NT.248 (momo網購價)\\nhttps://www.kate-global.net/tw/\\n\\n雅詩蘭黛  粉嫩慾望潤色護唇 NT.810 (網購價)\\nhttps://www.esteelauder.com.tw/\\n\\nI'M MEME 我愛絨光氣墊唇萃002號  NT.285(蝦皮價)\\nhttps://tw.memebox.com/v2/official/Sa...\\n\\n\\n不推：\\nLUNASOL 水光粉底液 \\neSpoir be silk 粉底液22W (韓國購入)\\n\\n\\n░  保姆系列 ░ \\n條理式分析搭配實際示範\\n真的超適合彩妝新手或進階者，必看！\\n\\n化妝步驟 EP.1 https://youtu.be/YADuXAUEixQ \\n\\n底妝步驟 EP.2 https://youtu.be/7CB0byxPx2M \\n\\n黑眼圈遮瑕 EP.3 https://youtu.be/YDnUluk4eMk \\n\\n新手進階班眼影教學 EP.4 https://youtu.be/kV2veP84O6w\\n\\n眉毛畫法全解析 EP.5 https://youtu.be/14hv188Z0FY \\n\\n鼻影畫法 EP.6 https://youtu.be/OBmjwB0BP98\\n \\n內眼線&雙色眼線 EP.7 https://youtu.be/pYAKMkYUq1U \\n腮紅畫法與顏色解析 EP.8  https://youtu.be/W6GlegXN4gA\\n\\n眼影選色大全-基礎概念篇 EP.9 https://youtu.be/srWOks11Hbo\\n\\n遮瑕三重點 EP.10 https://youtu.be/_bkyyLqizPo\\n\\n\\n\\n░  FAQ ░ \\n相機｜Panasonic Gh5\\n剪輯｜Adobe Premiere Pro CC\\n\\n░  更多Ginny░ \\n▪︎ 聯絡我!E-mail | ning3035@gmail.com\\n▪︎ IG| https://www.instagram.com/ning3035/\\n▪︎ FB | https://www.facebook.com/ginnyhoo\\n▪︎ Blog | http://ning3035.pixnet.net/blog\", 'DisLikes': '27', 'Duration': '12:46', 'Likes': '2203', 'Publish_Date': '2020年5月13日', 'Subscribers': '32.6萬 位訂閱者', 'Title': '2019愛用頻率最高的彩妝TOP10！還有兩款雷粉底液，早知不要買XD｜居妮Ginny Daily', 'Views': '觀看次數：122,144次'}\n"
     ]
    }
   ],
   "source": [
    "print(all_data[0])"
   ]
  },
  {
   "cell_type": "code",
   "execution_count": 53,
   "id": "ec5f30d0",
   "metadata": {},
   "outputs": [
    {
     "name": "stdout",
     "output_type": "stream",
     "text": [
      "{'ChannelLink': '/channel/UCX-yj8EcJpokdzwT9zcO6AA', 'ChannelName': '居妮Ginny Daily', 'Comments': '16 則留言', 'Desc': '三個日常也可以出現的眼妝分享給大家~\\n別忘了快去抽眼影唷♥♥♥ https://goo.gl/Uc4tLg\\n\\n使用產品➡\\n感謝寶雅與KATE提供產品合作!!\\n✨KATE 棕影立體眼影盒N #BR5/#BR3/#BR4\\n✨KATE 高顯色映像唇膏   #BE01/#OR3/#PK1/#RS2/#RD3\\n\\n\\n這裡找我➡\\nE-MAIL：ning3035@gmail.com\\nFACEBOOK：https://www.facebook.com/ginnyhoo\\nINSTARGAM：https://www.instagram.com/ning3035/\\nBLOG：http://ning3035.pixnet.net/blog\\n\\n\\nMUSIC\\n「Audionautix」創作的「Pop Star」是根據「Creative Commons Attribution」(https://creativecommons.org/licenses/...) 授權使用\\n演出者：http://audionautix.com/', 'DisLikes': '2', 'Duration': '4:48', 'Likes': '115', 'Publish_Date': '2017年9月29日', 'Subscribers': '32.6萬 位訂閱者', 'Title': '3D立體眼妝!!打造可愛/氣質/成熟妝容風格| MAKEUP TUTORIAL |GINNY x POYA X KATE', 'Views': '觀看次數：4,725次'}\n"
     ]
    }
   ],
   "source": [
    "print(all_data[1])"
   ]
  },
  {
   "cell_type": "code",
   "execution_count": 59,
   "id": "8995b676",
   "metadata": {},
   "outputs": [
    {
     "data": {
      "text/plain": [
       "'雙眼皮貼教學＆熱賣5款評比！新手必看｜居妮Ginny Daily♥'"
      ]
     },
     "execution_count": 59,
     "metadata": {},
     "output_type": "execute_result"
    }
   ],
   "source": [
    "sb['Title']"
   ]
  },
  {
   "cell_type": "code",
   "execution_count": 67,
   "id": "33741bcc",
   "metadata": {
    "scrolled": true
   },
   "outputs": [
    {
     "name": "stdout",
     "output_type": "stream",
     "text": [
      "2019愛用頻率最高的彩妝TOP10！還有兩款雷粉底液，早知不要買XD｜居妮Ginny Daily\n",
      "3D立體眼妝!!打造可愛/氣質/成熟妝容風格| MAKEUP TUTORIAL |GINNY x POYA X KATE\n",
      "Day Vlog#02 | 蘭芝玫瑰光雙效氣墊粉霜優缺點、一日穿搭、姐妹慶生🥂 | Ginny Daily居妮♥\n",
      "Ginny x Cyber colors 完全零基礎的好友來挑戰幫我化妝!! | Ginny Daily TV\n",
      "GINNY x ZOE | 把我的妝畫在閨蜜臉上#bff tag!! | PUTTING MAKEUP ON MY BEST FRIEND\n",
      "MISSHA 27樣開箱～超Q的LINE FRIENDS聯名屈臣氏就買的到！│居妮GinnyDaily X MISSHA♥\n",
      "Visee 2017新品眼影唇釉試色!!化一個草莓可可色日常妝| Winter Makeup | Ginny Daily X Visee♥\n",
      "[IG妝容]參加夏日婚禮的眼妝&唇妝!! | Instagram makeup tutorial (wedding makeup)| Ginny Daily♥\n",
      "不輸專櫃大牌!我最愛的5款平價腮紅 | Top 5 Drugstore Blushes 2018 | Ginny Daily♥\n",
      "亮片眼妝。鑽石眼影最簡單又耐看的畫法｜居妮Ginny Daily X KATE♥\n",
      "低調的亮片聖誕妝&髮型一次搞定🎄 | Christmas Makeup&hair!Sweet&Shiny\n",
      "你不知道的眼線畫法！讓眼睛更放大的混血深邃＆無辜小狗眼教學｜居妮寇瑞XLB ♥\n",
      "便宜好貨！佛心百元激推彩妝，買對就是省錢的開始！｜居妮與寇瑞♥\n",
      "值得入手的上妝工具 | About My Makeup Brushes | Ginny Daily♥\n",
      "內眼線不易暈染的正確位置＆雙色眼線畫法！｜美妝保姆 # 07｜居妮Ginny Daily X Maybelline ♥\n",
      "全開架妝容！平常愛用的13樣彩妝🍑夏日粉橘妝｜All drugstore makeup tutorial｜居妮Ginny Daily♥\n",
      "全開架！好感學生妝容&實用的潤護唇膏試色｜居妮Ginny Daily X 雪芙蘭♥\n",
      "冬天的溫暖系底妝 | Primer&Cushion Foundation | Ginny Daily X SHISEIDO\n",
      "初戀結局...？｜還原當時我最愛的日系通透妝！｜居妮Ginny Daily X Kiss♥\n",
      "化妝前請看！簡單卻很少人知道的11個神技巧｜美妝保姆ep.13｜居妮與寇瑞♥\n",
      "化妝前請點開！讓眼妝更美的7個神技巧！｜美妝保姆ep.17｜居妮與寇瑞♥\n",
      "化妝常見錯誤你中幾個？方頭眉、整坨眼影、斑駁底妝...｜彩妝PK賽Feat.寇瑞/小賀/菲比｜居妮Ginny Daily♥\n",
      "史上最便宜唇膏！Flormar最欠買色？激似精品包的質感色？｜居妮與寇瑞XFlormar ♥\n",
      "四款腮紅組合！微醉感的雙色腮紅畫法｜居妮Ginny Daily X SOUR3♥\n",
      "土色/奶茶色唇膏入門款抉擇!!Etude House & PALLADIO Lip Swatches | Ginny Daily TV\n",
      "夏天必看：4款平價臉部防曬評比!!｜Ginny DailyXSmoda♥\n",
      "夏天的5種穿搭與唇色 | 『Ginny x Maybelline 試色』媚比琳新五色 好氣色漸層三色CC輕唇膏 !!​\n",
      "夏日快速出門控油底妝! I’M MEME我愛油光GG蜜粉餅實擦分享 | GINNY X I’M MEME\n",
      "大小眼調整？改造成天生質感名媛 ！整組換掉#2 Ft.艾琳的日常｜居妮與寇瑞♥\n",
      "夾出捲翹睫毛!!原來有另一種方式!? | How to curl your eyelashes | Ginny DailyXNOBLE♥\n",
      "妝前乳要幹嘛？KATE全色解析與使用方法！｜居妮Ginny Daily♥\n",
      "屈臣氏裡的新品牌！平價質感ZENN .TH上妝，該先買哪一樣呢？｜居妮Ginny DailyXZENN .TH♥\n",
      "年度神級打亮！最值得買、讓臉膨又亮的TOP8！順便教你畫小V臉｜美妝保姆EP.19｜居妮與寇瑞♥\n",
      "底粧還是若有似無最舒服！冬末春初的透光粧容｜居妮Ginny Daily X 資生堂心機彩粧♥\n",
      "康是美彩妝買回家！試色上妝&卸妝｜居妮Ginny Daily X Biore♥\n",
      "情人節特輯!!上輩子的情人?爸爸配音我的粉紅妝容 | Father does my voice over | Ginny Daily TV\n",
      "我和閨蜜的東京之旅!瘋狂30色唇彩全紀錄 | Ginny X Shu uemura♥\n",
      "我在韓國的紫色妝🍇💜這些是出國帶的化妝品們 ｜Purple Makeup ｜ Ginny Daily♥\n",
      "扁鼻子變挺只要3步驟！適合新手超簡易修容＆愛用品｜美妝保姆 # 06｜居妮Ginny Daily♥\n",
      "新入手!!3CE RED RECIPE LIP COLOR腮紅/唇膏試色 | 邊吃邊測持色度？ | Ginny Daily TV\n",
      "新手化妝：一次搞懂基礎步驟&觀念｜新手保姆#01｜ Beginner makeup tips | Ginny Daily♥\n",
      "新手必學：超詳細底妝步驟!!｜新手保姆  # 02｜How to apply makeup for beginner? | Ginny Daily居妮\n",
      "新手必看~雙眼皮貼教學!! | 其實雙眼皮還能更有神 | HOODED EYE TO DOUBLE EYELID\n",
      "新手簡單畫出好看眉毛！修眉、畫眉、好用品全解析｜美妝保姆  # 05｜居妮＆寇瑞♥\n",
      "日本藥妝開箱！各類第一名都買回來！60元的燙睫毛器....XD｜居妮Ginny Daily♥\n",
      "日系開架PK：橘子汽水v.s.戀愛粉紅妝｜Orange & Pink makeup tutorial｜居妮Ginny Daily♥\n",
      "春天櫻花妝 🌸新入手的韓國彩妝來完成：CLIO、ETUDE HOUSE、SKIN FOOD、LANEIGE...| Cherry Blossom Spring Makeup| Ginny Daily\n",
      "楓紅妝容&新買的Colorpop Yes,please!眼影盤 | Autumn Makeup Tutorial 2017 | Ginny Daily♥\n",
      "此生必學！單色眼影的萬用畫法｜Simple one eyeshadow makeup 2018｜居妮與寇瑞♥\n",
      "氣墊粉餅的第二種上妝方式?! | BeautyMaker限量禮盒開箱 | Ginny Daily\n",
      "沒在騙！回顧2018最好用的粉底TOP5！第一名打趴專櫃....｜居妮Ginny Daily♥\n",
      "混和肌&化妝新手 夏天必學!!不怕脫妝的打底技巧 | No Foundation Summer Makeup Routine!!|Ginny Daily♥\n",
      "無用v.s.值得：7款專櫃腮紅心得! | High-end Blushes 2018 | Ginny Daily居妮♥\n",
      "熱門開架&專櫃遮瑕評比！我心中的第一名是....｜居妮Ginny Daily♥\n",
      "爸爸幫我化妝！這樣去拜年母湯吧😂....｜居妮Ginny Daily♥\n",
      "男生看不懂的三種妝?!用他挑選的彩妝品來完妝吧!! | Ginny x City color\n",
      "畫眼妝前必看！眼影配色的秘訣都在這｜美妝保姆 # 09｜居妮與寇瑞♥\n",
      "百元彩妝！史上最欠買的修容Top4，新手老手都適用｜美妝保姆ep15｜居妮與寇瑞\n",
      "盲買彩妝！賣最差的冷門好物，有踩雷也有大蜜糖！(GA/YSL/NARS/植村秀/makeupforever)｜居妮Ginny Daily♥\n",
      "省錢！一色搞定眼影/腮紅/唇彩，夏季全妝容示範｜居妮與寇瑞x Celvoke\n",
      "真的不沾染！口罩妝＆粉刺爆炸急救保養😷｜居妮Ginny Daily♥\n",
      "秋冬妝容&穿搭！超實用兩種風格，居妮風格訂製款來了｜居妮Ginny DailyXPAZZO♥\n",
      "秋天的3種風格妝容 | Ginny Daily\n",
      "穿搭風格日系/韓系/古著，你是哪一派？｜服裝X眼妝搭配示範｜居妮Ginny Daily X MAYBELLINE♥\n",
      "簡單遮瑕3步驟！過敏型黑眼圈消失吧｜新手保姆 # 03｜How to Cover Dark Circles ｜居妮Ginny Daily♥\n",
      "粉底最適合的工具？美妝蛋/刷子/海綿/手指上妝解析！｜居妮Ginny Daily X Za♥\n",
      "精選中的精選~我的2017美妝保養品TOP 5│Ginny Daily ♥ [ feat. 愛倫、Momoco、波痞、佩姬、Alice ]\n",
      "素顏霜省時挑戰?起床到出門只要10分鐘!! | Ginny Daily X L’EGERE蘭吉兒♥\n",
      "絕對有幫助！粉底的疑難雜症解答篇｜美妝保姆#11｜居妮與寇瑞 X 亞洲底妝專家shu uemura♥\n",
      "網友最不推的6款雷品，實際上臉會不會變蜜糖？｜還有我最近買到的高價毒藥...｜居妮Ginny Daily♥\n",
      "美妝也有福袋！康是美$399開箱，內容物究竟福不福？｜居妮Ginny Daily♥\n",
      "耐看的橘色妝！2020鼠年幸運色畫起來｜居妮Ginny Daily X Bioré♥\n",
      "自然底妝教學～實用上妝技巧打造東京大人系！白天輕盈橙色v.s.晚上復古派對｜居妮Ginny DailyX心機彩粧♥\n",
      "該飄眉嗎？飄眉解惑Q&A：霧眉差別？會痛嗎？什麼狀況不能飄眉...？｜居妮Ginny Daily♥\n",
      "誰才是「溫柔小姐姐色」？植村秀無色限奶茶玫瑰10 款全試色｜ 居妮Ginny Daily X shu uemura♥\n",
      "談戀愛前應該要學會？男生會喜歡的好感妝＆穿搭｜居妮與寇瑞 X ETUDE HOUSE ♥\n",
      "讓臉小一號的腮紅密技！不同臉型與膚色的解答篇｜美妝保姆 # 8｜ 居妮與寇瑞X SUGAO新品全試色♥\n",
      "超佛的百元腮紅！黃皮/黑皮適合的顏色&畫法｜4U2心型刻字腮紅｜居妮與寇妮X4U2♥\n",
      "超快速!!打造光透感與自然輪廓的底妝 | 4D光影修片術?!! | Ginny Daily TV\n",
      "超詳細眼影教學，簡單暈染神美眼妝！｜美妝保姆 # 04｜Eyeshadow Makeup Tutorial｜居妮Ginny Daily♥\n",
      "迎接春天的第一個妝。玩色春舞妝，我也可以很知性！｜居妮Ginny Daily X JILL STUART♥\n",
      "近期愛用：首次包色的唇釉/耳環/卸妝棉，還有為了粉刺把鮮奶戒掉了.... ｜居妮Ginny Daily♥\n",
      "運用小配件讓裝扮更加分!!我的#MOTD、#OOTD | Ginny Daily X OTTERBOX♥\n",
      "適合台灣夏天的韓系妝容！一起參加雅詩蘭黛MyCover粉漾狂歡趴｜居妮Ginny Daily X 雅詩蘭黛♥\n",
      "遮瑕3重點！教你用對遮瑕，就像換了張臉｜美妝保姆Ep.10｜居妮與寇瑞X媚比琳♥\n",
      "遲到啦！趕時間妝容就這樣化｜ 10 MINUTE GET READY CHALLENGE ｜居妮Ginny Daily X Za粉底蜜♥\n",
      "選錯眉筆顏色了？眉色解析、歐美眉與韓系眉詳細示範！｜居妮寇瑞 X Maybelline ♥\n",
      "避雷請看！和我們八字不合的專櫃彩妝｜居妮與寇瑞♥\n",
      "酒紅妝+遮瑕亮白的開架底妝：Za裸光亮白氣墊粉餅實擦!! | Ginny Daily x Za\n",
      "長灰塵...12樣後悔買下的美妝雷品!! | 2018 Worst makeup products | Ginny Daily居妮♥\n",
      "長髮LOOK！冷調花茶妝🌷夏季妝容換換口味吧｜居妮Ginny Daily X 曼秀雷敦♥\n",
      "雙眼皮貼教學＆熱賣5款評比！新手必看｜居妮Ginny Daily♥\n"
     ]
    }
   ],
   "source": [
    "for i in all_data:\n",
    "    print(i['Title'])"
   ]
  },
  {
   "cell_type": "code",
   "execution_count": 71,
   "id": "0d6ea1bf",
   "metadata": {},
   "outputs": [
    {
     "data": {
      "text/plain": [
       "{'_id': ObjectId('60b752fd7e53c5ffd5bda690'),\n",
       " 'ChannelLink': '/channel/UCX-yj8EcJpokdzwT9zcO6AA',\n",
       " 'ChannelName': '居妮Ginny Daily',\n",
       " 'Comments': '158 則留言',\n",
       " 'Desc': '這次來示範內雙的詳細貼法\\n以及因為我從小到大用遍各種雙眼皮貼\\n這次選出我私心覺得最好用＆最不好用的給大家參考！\\n\\n👉🏻更多居妮 https://www.instagram.com/ning3035/\\n訂閱頻道是支持、也能不錯過影片💋\\n\\n\\n░  FAQ ░ \\n相機｜Panasonic Gh5\\n剪輯｜Adobe Premiere Pro CC\\n\\n░  更多Ginny░ \\n▪︎ 聯絡我!E-mail | ning3035@gmail.com\\n▪︎ IG| https://www.instagram.com/ning3035/\\n▪︎ FB | https://www.facebook.com/ginnyhoo\\n▪︎ Blog | http://ning3035.pixnet.net/blog',\n",
       " 'DisLikes': '31',\n",
       " 'Duration': '0:30',\n",
       " 'Likes': '2024',\n",
       " 'Publish_Date': '2020年7月16日',\n",
       " 'Subscribers': '32.6萬 位訂閱者',\n",
       " 'Title': '雙眼皮貼教學＆熱賣5款評比！新手必看｜居妮Ginny Daily♥',\n",
       " 'Views': '觀看次數：99,797次'}"
      ]
     },
     "execution_count": 71,
     "metadata": {},
     "output_type": "execute_result"
    }
   ],
   "source": [
    "db.Beauty.find_one({'ChannelName': '居妮Ginny Daily'})"
   ]
  },
  {
   "cell_type": "code",
   "execution_count": 72,
   "id": "1dc305e3",
   "metadata": {
    "scrolled": true
   },
   "outputs": [
    {
     "name": "stdout",
     "output_type": "stream",
     "text": [
      "{'Title': '雙眼皮貼教學＆熱賣5款評比！新手必看｜居妮Ginny Daily♥'}\n",
      "{'Title': '2019愛用頻率最高的彩妝TOP10！還有兩款雷粉底液，早知不要買XD｜居妮Ginny Daily'}\n",
      "{'Title': '3D立體眼妝!!打造可愛/氣質/成熟妝容風格| MAKEUP TUTORIAL |GINNY x POYA X KATE'}\n",
      "{'Title': 'Day Vlog#02 | 蘭芝玫瑰光雙效氣墊粉霜優缺點、一日穿搭、姐妹慶生🥂 | Ginny Daily居妮♥'}\n",
      "{'Title': 'Ginny x Cyber colors 完全零基礎的好友來挑戰幫我化妝!! | Ginny Daily TV'}\n",
      "{'Title': 'GINNY x ZOE | 把我的妝畫在閨蜜臉上#bff tag!! | PUTTING MAKEUP ON MY BEST FRIEND'}\n",
      "{'Title': 'MISSHA 27樣開箱～超Q的LINE FRIENDS聯名屈臣氏就買的到！│居妮GinnyDaily X MISSHA♥'}\n",
      "{'Title': 'Visee 2017新品眼影唇釉試色!!化一個草莓可可色日常妝| Winter Makeup | Ginny Daily X Visee♥'}\n",
      "{'Title': '[IG妝容]參加夏日婚禮的眼妝&唇妝!! | Instagram makeup tutorial (wedding makeup)| Ginny Daily♥'}\n",
      "{'Title': '不輸專櫃大牌!我最愛的5款平價腮紅 | Top 5 Drugstore Blushes 2018 | Ginny Daily♥'}\n",
      "{'Title': '亮片眼妝。鑽石眼影最簡單又耐看的畫法｜居妮Ginny Daily X KATE♥'}\n",
      "{'Title': '低調的亮片聖誕妝&髮型一次搞定🎄 | Christmas Makeup&hair!Sweet&Shiny'}\n",
      "{'Title': '你不知道的眼線畫法！讓眼睛更放大的混血深邃＆無辜小狗眼教學｜居妮寇瑞XLB ♥'}\n",
      "{'Title': '便宜好貨！佛心百元激推彩妝，買對就是省錢的開始！｜居妮與寇瑞♥'}\n",
      "{'Title': '值得入手的上妝工具 | About My Makeup Brushes | Ginny Daily♥'}\n",
      "{'Title': '內眼線不易暈染的正確位置＆雙色眼線畫法！｜美妝保姆 # 07｜居妮Ginny Daily X Maybelline ♥'}\n",
      "{'Title': '全開架妝容！平常愛用的13樣彩妝🍑夏日粉橘妝｜All drugstore makeup tutorial｜居妮Ginny Daily♥'}\n",
      "{'Title': '全開架！好感學生妝容&實用的潤護唇膏試色｜居妮Ginny Daily X 雪芙蘭♥'}\n",
      "{'Title': '冬天的溫暖系底妝 | Primer&Cushion Foundation | Ginny Daily X SHISEIDO'}\n",
      "{'Title': '初戀結局...？｜還原當時我最愛的日系通透妝！｜居妮Ginny Daily X Kiss♥'}\n",
      "{'Title': '化妝前請看！簡單卻很少人知道的11個神技巧｜美妝保姆ep.13｜居妮與寇瑞♥'}\n",
      "{'Title': '化妝前請點開！讓眼妝更美的7個神技巧！｜美妝保姆ep.17｜居妮與寇瑞♥'}\n",
      "{'Title': '化妝常見錯誤你中幾個？方頭眉、整坨眼影、斑駁底妝...｜彩妝PK賽Feat.寇瑞/小賀/菲比｜居妮Ginny Daily♥'}\n",
      "{'Title': '史上最便宜唇膏！Flormar最欠買色？激似精品包的質感色？｜居妮與寇瑞XFlormar ♥'}\n",
      "{'Title': '四款腮紅組合！微醉感的雙色腮紅畫法｜居妮Ginny Daily X SOUR3♥'}\n",
      "{'Title': '土色/奶茶色唇膏入門款抉擇!!Etude House & PALLADIO Lip Swatches | Ginny Daily TV'}\n",
      "{'Title': '夏天必看：4款平價臉部防曬評比!!｜Ginny DailyXSmoda♥'}\n",
      "{'Title': '夏天的5種穿搭與唇色 | 『Ginny x Maybelline 試色』媚比琳新五色 好氣色漸層三色CC輕唇膏 !!\\u200b'}\n",
      "{'Title': '夏日快速出門控油底妝! I’M MEME我愛油光GG蜜粉餅實擦分享 | GINNY X I’M MEME'}\n",
      "{'Title': '大小眼調整？改造成天生質感名媛 ！整組換掉#2 Ft.艾琳的日常｜居妮與寇瑞♥'}\n",
      "{'Title': '夾出捲翹睫毛!!原來有另一種方式!? | How to curl your eyelashes | Ginny DailyXNOBLE♥'}\n",
      "{'Title': '妝前乳要幹嘛？KATE全色解析與使用方法！｜居妮Ginny Daily♥'}\n",
      "{'Title': '屈臣氏裡的新品牌！平價質感ZENN .TH上妝，該先買哪一樣呢？｜居妮Ginny DailyXZENN .TH♥'}\n",
      "{'Title': '年度神級打亮！最值得買、讓臉膨又亮的TOP8！順便教你畫小V臉｜美妝保姆EP.19｜居妮與寇瑞♥'}\n",
      "{'Title': '底粧還是若有似無最舒服！冬末春初的透光粧容｜居妮Ginny Daily X 資生堂心機彩粧♥'}\n",
      "{'Title': '康是美彩妝買回家！試色上妝&卸妝｜居妮Ginny Daily X Biore♥'}\n",
      "{'Title': '情人節特輯!!上輩子的情人?爸爸配音我的粉紅妝容 | Father does my voice over | Ginny Daily TV'}\n",
      "{'Title': '我和閨蜜的東京之旅!瘋狂30色唇彩全紀錄 | Ginny X Shu uemura♥'}\n",
      "{'Title': '我在韓國的紫色妝🍇💜這些是出國帶的化妝品們 ｜Purple Makeup ｜ Ginny Daily♥'}\n",
      "{'Title': '扁鼻子變挺只要3步驟！適合新手超簡易修容＆愛用品｜美妝保姆 # 06｜居妮Ginny Daily♥'}\n",
      "{'Title': '新入手!!3CE RED RECIPE LIP COLOR腮紅/唇膏試色 | 邊吃邊測持色度？ | Ginny Daily TV'}\n",
      "{'Title': '新手化妝：一次搞懂基礎步驟&觀念｜新手保姆#01｜ Beginner makeup tips | Ginny Daily♥'}\n",
      "{'Title': '新手必學：超詳細底妝步驟!!｜新手保姆  # 02｜How to apply makeup for beginner? | Ginny Daily居妮'}\n",
      "{'Title': '新手必看~雙眼皮貼教學!! | 其實雙眼皮還能更有神 | HOODED EYE TO DOUBLE EYELID'}\n",
      "{'Title': '新手簡單畫出好看眉毛！修眉、畫眉、好用品全解析｜美妝保姆  # 05｜居妮＆寇瑞♥'}\n",
      "{'Title': '日本藥妝開箱！各類第一名都買回來！60元的燙睫毛器....XD｜居妮Ginny Daily♥'}\n",
      "{'Title': '日系開架PK：橘子汽水v.s.戀愛粉紅妝｜Orange & Pink makeup tutorial｜居妮Ginny Daily♥'}\n",
      "{'Title': '春天櫻花妝 🌸新入手的韓國彩妝來完成：CLIO、ETUDE HOUSE、SKIN FOOD、LANEIGE...| Cherry Blossom Spring Makeup| Ginny Daily'}\n",
      "{'Title': '楓紅妝容&新買的Colorpop Yes,please!眼影盤 | Autumn Makeup Tutorial 2017 | Ginny Daily♥'}\n",
      "{'Title': '此生必學！單色眼影的萬用畫法｜Simple one eyeshadow makeup 2018｜居妮與寇瑞♥'}\n",
      "{'Title': '氣墊粉餅的第二種上妝方式?! | BeautyMaker限量禮盒開箱 | Ginny Daily'}\n",
      "{'Title': '沒在騙！回顧2018最好用的粉底TOP5！第一名打趴專櫃....｜居妮Ginny Daily♥'}\n",
      "{'Title': '混和肌&化妝新手 夏天必學!!不怕脫妝的打底技巧 | No Foundation Summer Makeup Routine!!|Ginny Daily♥'}\n",
      "{'Title': '無用v.s.值得：7款專櫃腮紅心得! | High-end Blushes 2018 | Ginny Daily居妮♥'}\n",
      "{'Title': '熱門開架&專櫃遮瑕評比！我心中的第一名是....｜居妮Ginny Daily♥'}\n",
      "{'Title': '爸爸幫我化妝！這樣去拜年母湯吧😂....｜居妮Ginny Daily♥'}\n",
      "{'Title': '男生看不懂的三種妝?!用他挑選的彩妝品來完妝吧!! | Ginny x City color'}\n",
      "{'Title': '畫眼妝前必看！眼影配色的秘訣都在這｜美妝保姆 # 09｜居妮與寇瑞♥'}\n",
      "{'Title': '百元彩妝！史上最欠買的修容Top4，新手老手都適用｜美妝保姆ep15｜居妮與寇瑞'}\n",
      "{'Title': '盲買彩妝！賣最差的冷門好物，有踩雷也有大蜜糖！(GA/YSL/NARS/植村秀/makeupforever)｜居妮Ginny Daily♥'}\n",
      "{'Title': '省錢！一色搞定眼影/腮紅/唇彩，夏季全妝容示範｜居妮與寇瑞x Celvoke'}\n",
      "{'Title': '真的不沾染！口罩妝＆粉刺爆炸急救保養😷｜居妮Ginny Daily♥'}\n",
      "{'Title': '秋冬妝容&穿搭！超實用兩種風格，居妮風格訂製款來了｜居妮Ginny DailyXPAZZO♥'}\n",
      "{'Title': '秋天的3種風格妝容 | Ginny Daily'}\n",
      "{'Title': '穿搭風格日系/韓系/古著，你是哪一派？｜服裝X眼妝搭配示範｜居妮Ginny Daily X MAYBELLINE♥'}\n",
      "{'Title': '簡單遮瑕3步驟！過敏型黑眼圈消失吧｜新手保姆 # 03｜How to Cover Dark Circles ｜居妮Ginny Daily♥'}\n",
      "{'Title': '粉底最適合的工具？美妝蛋/刷子/海綿/手指上妝解析！｜居妮Ginny Daily X Za♥'}\n",
      "{'Title': '精選中的精選~我的2017美妝保養品TOP 5│Ginny Daily ♥ [ feat. 愛倫、Momoco、波痞、佩姬、Alice ]'}\n",
      "{'Title': '素顏霜省時挑戰?起床到出門只要10分鐘!! | Ginny Daily X L’EGERE蘭吉兒♥'}\n",
      "{'Title': '絕對有幫助！粉底的疑難雜症解答篇｜美妝保姆#11｜居妮與寇瑞 X 亞洲底妝專家shu uemura♥'}\n",
      "{'Title': '網友最不推的6款雷品，實際上臉會不會變蜜糖？｜還有我最近買到的高價毒藥...｜居妮Ginny Daily♥'}\n",
      "{'Title': '美妝也有福袋！康是美$399開箱，內容物究竟福不福？｜居妮Ginny Daily♥'}\n",
      "{'Title': '耐看的橘色妝！2020鼠年幸運色畫起來｜居妮Ginny Daily X Bioré♥'}\n",
      "{'Title': '自然底妝教學～實用上妝技巧打造東京大人系！白天輕盈橙色v.s.晚上復古派對｜居妮Ginny DailyX心機彩粧♥'}\n",
      "{'Title': '該飄眉嗎？飄眉解惑Q&A：霧眉差別？會痛嗎？什麼狀況不能飄眉...？｜居妮Ginny Daily♥'}\n",
      "{'Title': '誰才是「溫柔小姐姐色」？植村秀無色限奶茶玫瑰10 款全試色｜ 居妮Ginny Daily X shu uemura♥'}\n",
      "{'Title': '談戀愛前應該要學會？男生會喜歡的好感妝＆穿搭｜居妮與寇瑞 X ETUDE HOUSE ♥'}\n",
      "{'Title': '讓臉小一號的腮紅密技！不同臉型與膚色的解答篇｜美妝保姆 # 8｜ 居妮與寇瑞X SUGAO新品全試色♥'}\n",
      "{'Title': '超佛的百元腮紅！黃皮/黑皮適合的顏色&畫法｜4U2心型刻字腮紅｜居妮與寇妮X4U2♥'}\n",
      "{'Title': '超快速!!打造光透感與自然輪廓的底妝 | 4D光影修片術?!! | Ginny Daily TV'}\n",
      "{'Title': '超詳細眼影教學，簡單暈染神美眼妝！｜美妝保姆 # 04｜Eyeshadow Makeup Tutorial｜居妮Ginny Daily♥'}\n",
      "{'Title': '迎接春天的第一個妝。玩色春舞妝，我也可以很知性！｜居妮Ginny Daily X JILL STUART♥'}\n",
      "{'Title': '近期愛用：首次包色的唇釉/耳環/卸妝棉，還有為了粉刺把鮮奶戒掉了.... ｜居妮Ginny Daily♥'}\n",
      "{'Title': '運用小配件讓裝扮更加分!!我的#MOTD、#OOTD | Ginny Daily X OTTERBOX♥'}\n",
      "{'Title': '適合台灣夏天的韓系妝容！一起參加雅詩蘭黛MyCover粉漾狂歡趴｜居妮Ginny Daily X 雅詩蘭黛♥'}\n",
      "{'Title': '遮瑕3重點！教你用對遮瑕，就像換了張臉｜美妝保姆Ep.10｜居妮與寇瑞X媚比琳♥'}\n",
      "{'Title': '遲到啦！趕時間妝容就這樣化｜ 10 MINUTE GET READY CHALLENGE ｜居妮Ginny Daily X Za粉底蜜♥'}\n",
      "{'Title': '選錯眉筆顏色了？眉色解析、歐美眉與韓系眉詳細示範！｜居妮寇瑞 X Maybelline ♥'}\n",
      "{'Title': '避雷請看！和我們八字不合的專櫃彩妝｜居妮與寇瑞♥'}\n",
      "{'Title': '酒紅妝+遮瑕亮白的開架底妝：Za裸光亮白氣墊粉餅實擦!! | Ginny Daily x Za'}\n",
      "{'Title': '長灰塵...12樣後悔買下的美妝雷品!! | 2018 Worst makeup products | Ginny Daily居妮♥'}\n",
      "{'Title': '長髮LOOK！冷調花茶妝🌷夏季妝容換換口味吧｜居妮Ginny Daily X 曼秀雷敦♥'}\n",
      "{'Title': '雙眼皮貼教學＆熱賣5款評比！新手必看｜居妮Ginny Daily♥'}\n"
     ]
    }
   ],
   "source": [
    "# 0:不顯示 , 1:顯示\n",
    "for o in db.Beauty.find({},{\"_id\": 0, \"Title\": 1 }):\n",
    "    print(o)"
   ]
  }
 ],
 "metadata": {
  "kernelspec": {
   "display_name": "Python 3",
   "language": "python",
   "name": "python3"
  },
  "language_info": {
   "codemirror_mode": {
    "name": "ipython",
    "version": 3
   },
   "file_extension": ".py",
   "mimetype": "text/x-python",
   "name": "python",
   "nbconvert_exporter": "python",
   "pygments_lexer": "ipython3",
   "version": "3.6.8"
  }
 },
 "nbformat": 4,
 "nbformat_minor": 5
}
