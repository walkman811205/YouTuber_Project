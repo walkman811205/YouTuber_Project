{
 "cells": [
  {
   "cell_type": "code",
   "execution_count": 2,
   "id": "48d41747",
   "metadata": {},
   "outputs": [
    {
     "name": "stdout",
     "output_type": "stream",
     "text": [
      "Defaulting to user installation because normal site-packages is not writeable\n"
     ]
    },
    {
     "name": "stderr",
     "output_type": "stream",
     "text": [
      "WARNING: You are using pip version 21.0.1; however, version 21.1.2 is available.\n",
      "You should consider upgrading via the 'c:\\program files\\python36\\python.exe -m pip install --upgrade pip' command.\n"
     ]
    },
    {
     "name": "stdout",
     "output_type": "stream",
     "text": [
      "Requirement already satisfied: pymysql in c:\\users\\tibame\\appdata\\roaming\\python\\python36\\site-packages (1.0.2)\n"
     ]
    }
   ],
   "source": [
    "!pip install pymysql"
   ]
  },
  {
   "cell_type": "code",
   "execution_count": 9,
   "id": "8b5bc455",
   "metadata": {},
   "outputs": [
    {
     "name": "stdout",
     "output_type": "stream",
     "text": [
      "Database version : 8.0.23 \n"
     ]
    }
   ],
   "source": [
    "import pymysql\n",
    "# 開啟資料庫連線\n",
    "\n",
    "db = pymysql.connect(user=\"root\", password=\"youtube\", host=\"192.168.157.134\", port=3306)\n",
    "# 使用 cursor() 方法建立一個遊標物件 cursor\n",
    "cursor = db.cursor()\n",
    "# 使用 execute()  方法執行 SQL 查詢\n",
    "cursor.execute(\"SELECT VERSION()\")\n",
    "# 使用 fetchone() 方法獲取單條資料.\n",
    "data = cursor.fetchone()\n",
    "print (\"Database version : %s \" % data)\n",
    "# 關閉資料庫連線\n",
    "db.close()"
   ]
  }
 ],
 "metadata": {
  "kernelspec": {
   "display_name": "Python 3",
   "language": "python",
   "name": "python3"
  },
  "language_info": {
   "codemirror_mode": {
    "name": "ipython",
    "version": 3
   },
   "file_extension": ".py",
   "mimetype": "text/x-python",
   "name": "python",
   "nbconvert_exporter": "python",
   "pygments_lexer": "ipython3",
   "version": "3.6.8"
  }
 },
 "nbformat": 4,
 "nbformat_minor": 5
}
