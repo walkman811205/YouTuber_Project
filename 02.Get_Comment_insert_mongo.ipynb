{
 "cells": [
  {
   "cell_type": "code",
   "execution_count": null,
   "id": "organizational-pension",
   "metadata": {},
   "outputs": [],
   "source": [
    "!pip install youtube-comment-scraper-python"
   ]
  },
  {
   "cell_type": "code",
   "execution_count": null,
   "id": "becoming-timothy",
   "metadata": {},
   "outputs": [],
   "source": [
    "!pip install bot-studio"
   ]
  },
  {
   "cell_type": "code",
   "execution_count": 1,
   "id": "political-smooth",
   "metadata": {},
   "outputs": [
    {
     "name": "stderr",
     "output_type": "stream",
     "text": [
      "Progress: 100%|████████████████████████████████████████████████████████████████████| 200.0/200 [00:16<00:00, 12.34it/s]\n"
     ]
    },
    {
     "name": "stdout",
     "output_type": "stream",
     "text": [
      "第36留言\n"
     ]
    },
    {
     "name": "stderr",
     "output_type": "stream",
     "text": [
      "Progress: 100%|████████████████████████████████████████████████████████████████████| 200.0/200 [00:14<00:00, 14.11it/s]\n"
     ]
    },
    {
     "name": "stdout",
     "output_type": "stream",
     "text": [
      "第40留言\n",
      "爬取結束\n"
     ]
    }
   ],
   "source": [
    "from youtube_comment_scraper_python import *\n",
    "import time\n",
    "youtube.open(\"https://www.youtube.com/watch?v=z9gAVbaDPIk\")\n",
    "\n",
    "i=1\n",
    "summ=0\n",
    "besum=1\n",
    "\n",
    "while besum != summ:\n",
    "    if i < 3:\n",
    "        besum = 0 \n",
    "        response = youtube.video_comments()\n",
    "        time.sleep(3)\n",
    "        comment=response['body']\n",
    "        summ = len(comment)\n",
    "        print('第{}留言'.format(summ)) \n",
    "        i += 1\n",
    "    else:\n",
    "        besum = summ\n",
    "        print('爬取結束') \n"
   ]
  },
  {
   "cell_type": "code",
   "execution_count": null,
   "id": "written-model",
   "metadata": {},
   "outputs": [],
   "source": [
    "len(comment)"
   ]
  },
  {
   "cell_type": "code",
   "execution_count": null,
   "id": "round-spice",
   "metadata": {
    "scrolled": true
   },
   "outputs": [],
   "source": [
    "# precom = []\n",
    "# for o in comment:\n",
    "#     c = o['Comment']\n",
    "#     print(c)\n",
    "#     print('-'*30)\n",
    "# #     precom.append(c)\n",
    "# #     a = c.split('\\n')\n",
    "# #     com = dict(comment = precom)\n",
    "# # print(com)"
   ]
  },
  {
   "cell_type": "code",
   "execution_count": null,
   "id": "39994c58",
   "metadata": {},
   "outputs": [],
   "source": [
    "from pymongo import MongoClient\n",
    "# 方法一\n",
    "# host主機名，27017連線埠\n",
    "client = MongoClient(host='192.168.157.136', port=27017)\n",
    "db_auth = client.admin\n",
    "# 登陸的使用者名稱(username)和密碼(password)\n",
    "db_auth.authenticate(\"root\", \"youtube\")\n",
    "# 連線指定資料庫，資料庫名為db_name\n",
    "db = client[\"hello_mongo\"]"
   ]
  },
  {
   "cell_type": "code",
   "execution_count": null,
   "id": "b693fbc8",
   "metadata": {
    "scrolled": true
   },
   "outputs": [],
   "source": [
    "db.Comment13.insert_many(comment)"
   ]
  },
  {
   "cell_type": "code",
   "execution_count": null,
   "id": "b91d0b09",
   "metadata": {
    "scrolled": true
   },
   "outputs": [],
   "source": [
    "# 0:不顯示 , 1:顯示\n",
    "for comment in db.Comment00.find({},{\"_id\": 0, \"Comment\": 1}):\n",
    "     print(comment)"
   ]
  }
 ],
 "metadata": {
  "kernelspec": {
   "display_name": "Python 3",
   "language": "python",
   "name": "python3"
  },
  "language_info": {
   "codemirror_mode": {
    "name": "ipython",
    "version": 3
   },
   "file_extension": ".py",
   "mimetype": "text/x-python",
   "name": "python",
   "nbconvert_exporter": "python",
   "pygments_lexer": "ipython3",
   "version": "3.6.8"
  }
 },
 "nbformat": 4,
 "nbformat_minor": 5
}
