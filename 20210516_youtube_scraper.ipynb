{
 "cells": [
  {
   "cell_type": "code",
   "execution_count": 2,
   "id": "eb6baefa",
   "metadata": {},
   "outputs": [
    {
     "name": "stdout",
     "output_type": "stream",
     "text": [
      "Defaulting to user installation because normal site-packages is not writeable\n",
      "Collecting youtube-comment-scraper-python\n",
      "  Downloading youtube-comment-scraper-python-1.0.0.tar.gz (2.6 kB)\n",
      "Requirement already satisfied: requests in c:\\program files\\python36\\lib\\site-packages (from youtube-comment-scraper-python) (2.25.1)\n",
      "Collecting bot-studio\n",
      "  Downloading bot_studio-1.0.2.tar.gz (29.4 MB)\n",
      "Collecting tqdm\n",
      "  Downloading tqdm-4.60.0-py2.py3-none-any.whl (75 kB)\n",
      "Requirement already satisfied: urllib3<1.27,>=1.21.1 in c:\\program files\\python36\\lib\\site-packages (from requests->youtube-comment-scraper-python) (1.26.4)\n",
      "Requirement already satisfied: certifi>=2017.4.17 in c:\\program files\\python36\\lib\\site-packages (from requests->youtube-comment-scraper-python) (2020.12.5)\n",
      "Requirement already satisfied: chardet<5,>=3.0.2 in c:\\program files\\python36\\lib\\site-packages (from requests->youtube-comment-scraper-python) (4.0.0)\n",
      "Requirement already satisfied: idna<3,>=2.5 in c:\\program files\\python36\\lib\\site-packages (from requests->youtube-comment-scraper-python) (2.10)\n",
      "Using legacy 'setup.py install' for youtube-comment-scraper-python, since package 'wheel' is not installed.\n",
      "Using legacy 'setup.py install' for bot-studio, since package 'wheel' is not installed.\n",
      "Installing collected packages: tqdm, bot-studio, youtube-comment-scraper-python\n",
      "    Running setup.py install for bot-studio: started\n",
      "    Running setup.py install for bot-studio: finished with status 'done'\n",
      "    Running setup.py install for youtube-comment-scraper-python: started\n",
      "    Running setup.py install for youtube-comment-scraper-python: finished with status 'done'\n",
      "Successfully installed bot-studio-1.0.2 tqdm-4.60.0 youtube-comment-scraper-python-1.0.0\n"
     ]
    },
    {
     "name": "stderr",
     "output_type": "stream",
     "text": [
      "  WARNING: The script tqdm.exe is installed in 'C:\\Users\\Tibame\\AppData\\Roaming\\Python\\Python36\\Scripts' which is not on PATH.\n",
      "  Consider adding this directory to PATH or, if you prefer to suppress this warning, use --no-warn-script-location.\n",
      "WARNING: You are using pip version 21.0.1; however, version 21.1.1 is available.\n",
      "You should consider upgrading via the 'c:\\program files\\python36\\python.exe -m pip install --upgrade pip' command.\n"
     ]
    },
    {
     "name": "stdout",
     "output_type": "stream",
     "text": [
      "Defaulting to user installation because normal site-packages is not writeable\n",
      "Requirement already satisfied: bot-studio in c:\\users\\tibame\\appdata\\roaming\\python\\python36\\site-packages (1.0.2)\n",
      "Requirement already satisfied: requests in c:\\program files\\python36\\lib\\site-packages (from bot-studio) (2.25.1)\n",
      "Requirement already satisfied: tqdm in c:\\users\\tibame\\appdata\\roaming\\python\\python36\\site-packages (from bot-studio) (4.60.0)\n",
      "Requirement already satisfied: idna<3,>=2.5 in c:\\program files\\python36\\lib\\site-packages (from requests->bot-studio) (2.10)\n",
      "Requirement already satisfied: chardet<5,>=3.0.2 in c:\\program files\\python36\\lib\\site-packages (from requests->bot-studio) (4.0.0)\n",
      "Requirement already satisfied: urllib3<1.27,>=1.21.1 in c:\\program files\\python36\\lib\\site-packages (from requests->bot-studio) (1.26.4)\n",
      "Requirement already satisfied: certifi>=2017.4.17 in c:\\program files\\python36\\lib\\site-packages (from requests->bot-studio) (2020.12.5)\n"
     ]
    },
    {
     "name": "stderr",
     "output_type": "stream",
     "text": [
      "WARNING: You are using pip version 21.0.1; however, version 21.1.1 is available.\n",
      "You should consider upgrading via the 'c:\\program files\\python36\\python.exe -m pip install --upgrade pip' command.\n"
     ]
    },
    {
     "name": "stdout",
     "output_type": "stream",
     "text": [
      "Defaulting to user installation because normal site-packages is not writeable\n",
      "Collecting pytube\n",
      "  Downloading pytube-10.8.1-py3-none-any.whl (46 kB)\n",
      "Installing collected packages: pytube\n",
      "Successfully installed pytube-10.8.1\n"
     ]
    },
    {
     "name": "stderr",
     "output_type": "stream",
     "text": [
      "  WARNING: The script pytube.exe is installed in 'C:\\Users\\Tibame\\AppData\\Roaming\\Python\\Python36\\Scripts' which is not on PATH.\n",
      "  Consider adding this directory to PATH or, if you prefer to suppress this warning, use --no-warn-script-location.\n",
      "WARNING: You are using pip version 21.0.1; however, version 21.1.1 is available.\n",
      "You should consider upgrading via the 'c:\\program files\\python36\\python.exe -m pip install --upgrade pip' command.\n"
     ]
    }
   ],
   "source": [
    "!pip install youtube-comment-scraper-python\n",
    "!pip install bot-studio\n",
    "!pip install pytube"
   ]
  },
  {
   "cell_type": "code",
   "execution_count": 16,
   "id": "d82ed74c",
   "metadata": {
    "scrolled": true
   },
   "outputs": [
    {
     "name": "stderr",
     "output_type": "stream",
     "text": [
      "Progress: 100%|████████████████████████████████████████████████████████████████████| 200.0/200 [00:34<00:00,  5.85it/s]\n",
      "Progress: 100%|████████████████████████████████████████████████████████████████████| 200.0/200 [00:22<00:00,  9.02it/s]\n",
      "Progress: 100%|████████████████████████████████████████████████████████████████████| 200.0/200 [00:36<00:00,  5.53it/s]\n",
      "Progress: 100%|████████████████████████████████████████████████████████████████████| 200.0/200 [00:22<00:00,  9.04it/s]\n",
      "Progress: 100%|████████████████████████████████████████████████████████████████████| 200.0/200 [00:22<00:00,  9.06it/s]\n",
      "Progress: 100%|████████████████████████████████████████████████████████████████████| 200.0/200 [00:20<00:00,  9.94it/s]\n",
      "Progress: 100%|████████████████████████████████████████████████████████████████████| 200.0/200 [00:22<00:00,  9.04it/s]\n",
      "Progress: 100%|████████████████████████████████████████████████████████████████████| 200.0/200 [00:22<00:00,  9.03it/s]\n",
      "Progress: 100%|████████████████████████████████████████████████████████████████████| 200.0/200 [00:22<00:00,  9.05it/s]\n",
      "Progress: 100%|████████████████████████████████████████████████████████████████████| 200.0/200 [00:34<00:00,  5.86it/s]\n",
      "Progress: 100%|████████████████████████████████████████████████████████████████████| 200.0/200 [00:22<00:00,  9.05it/s]\n",
      "Progress: 100%|████████████████████████████████████████████████████████████████████| 200.0/200 [00:22<00:00,  9.06it/s]\n",
      "Progress: 100%|████████████████████████████████████████████████████████████████████| 200.0/200 [00:24<00:00,  8.27it/s]\n",
      "Progress: 100%|████████████████████████████████████████████████████████████████████| 200.0/200 [00:24<00:00,  8.27it/s]\n",
      "Progress: 100%|████████████████████████████████████████████████████████████████████| 200.0/200 [00:22<00:00,  9.03it/s]\n",
      "Progress: 100%|████████████████████████████████████████████████████████████████████| 200.0/200 [00:22<00:00,  9.04it/s]\n",
      "Progress: 100%|████████████████████████████████████████████████████████████████████| 200.0/200 [00:22<00:00,  9.03it/s]\n",
      "Progress: 100%|████████████████████████████████████████████████████████████████████| 200.0/200 [00:36<00:00,  5.53it/s]\n",
      "Progress: 100%|████████████████████████████████████████████████████████████████████| 200.0/200 [00:22<00:00,  9.03it/s]\n",
      "Progress: 100%|████████████████████████████████████████████████████████████████████| 200.0/200 [00:24<00:00,  8.29it/s]\n",
      "Progress: 100%|████████████████████████████████████████████████████████████████████| 200.0/200 [00:22<00:00,  9.04it/s]\n",
      "Progress: 100%|████████████████████████████████████████████████████████████████████| 200.0/200 [00:20<00:00,  9.94it/s]\n",
      "Progress: 100%|████████████████████████████████████████████████████████████████████| 200.0/200 [00:34<00:00,  5.85it/s]\n",
      "Progress: 100%|████████████████████████████████████████████████████████████████████| 200.0/200 [00:22<00:00,  9.05it/s]\n",
      "Progress: 100%|████████████████████████████████████████████████████████████████████| 200.0/200 [00:22<00:00,  9.03it/s]\n",
      "Progress: 100%|████████████████████████████████████████████████████████████████████| 200.0/200 [00:36<00:00,  5.53it/s]\n",
      "Progress: 100%|████████████████████████████████████████████████████████████████████| 200.0/200 [00:22<00:00,  9.04it/s]\n",
      "Progress: 100%|████████████████████████████████████████████████████████████████████| 200.0/200 [00:22<00:00,  9.03it/s]\n",
      "Progress: 100%|████████████████████████████████████████████████████████████████████| 200.0/200 [00:22<00:00,  9.03it/s]\n",
      "Progress: 100%|████████████████████████████████████████████████████████████████████| 200.0/200 [00:22<00:00,  9.03it/s]\n",
      "Progress: 100%|████████████████████████████████████████████████████████████████████| 200.0/200 [00:20<00:00,  9.93it/s]\n",
      "Progress: 100%|████████████████████████████████████████████████████████████████████| 200.0/200 [00:22<00:00,  9.06it/s]\n",
      "Progress: 100%|████████████████████████████████████████████████████████████████████| 200.0/200 [00:22<00:00,  9.03it/s]\n",
      "Progress: 100%|████████████████████████████████████████████████████████████████████| 200.0/200 [00:22<00:00,  9.04it/s]\n",
      "Progress: 100%|████████████████████████████████████████████████████████████████████| 200.0/200 [00:22<00:00,  9.05it/s]\n",
      "Progress: 100%|████████████████████████████████████████████████████████████████████| 200.0/200 [00:22<00:00,  9.04it/s]\n",
      "Progress: 100%|████████████████████████████████████████████████████████████████████| 200.0/200 [00:36<00:00,  5.53it/s]\n",
      "Progress: 100%|████████████████████████████████████████████████████████████████████| 200.0/200 [00:22<00:00,  9.05it/s]\n",
      "Progress: 100%|████████████████████████████████████████████████████████████████████| 200.0/200 [00:34<00:00,  5.86it/s]\n",
      "Progress: 100%|████████████████████████████████████████████████████████████████████| 200.0/200 [00:32<00:00,  6.23it/s]\n"
     ]
    }
   ],
   "source": [
    "from youtube_comment_scraper_python import *\n",
    "from bot_studio import *\n",
    "from pytube import Playlist\n",
    "import os\n",
    "import re\n",
    "\n",
    "#設定資料夾名稱\n",
    "foldername = 'yt-scraper/'\n",
    "if not os.path.exists(foldername):\n",
    "    os.mkdir(foldername)\n",
    "\n",
    "#網址來源:點選頻道的全播撥放 \n",
    "pl = Playlist(\"https://www.youtube.com/watch?v=PF0v6uUrz-4&list=PL7LxFZn8e_zKwFKvaFmuaDwe0KdhQLC69\")\n",
    "\n",
    "with open(foldername + 'test.txt', 'w', encoding='utf-8') as f:\n",
    "    f.write(\"\\n\".join(pl))\n",
    "with open(foldername + 'test.txt') as l:\n",
    "    r = l.readlines()\n",
    "    \n",
    "for play in r:    \n",
    "    youtube=bot_studio.youtube()\n",
    "    info = youtube.get_video_info(video_url=play)['body']\n",
    "    title = info['Title']\n",
    "    cn = info['ChannelName']\n",
    "    rstr = r\"[\\/\\\\\\:\\*\\?\\\"\\<\\>\\|]\"  # '/ \\ : * ? \" < > |'\n",
    "    new_title = re.sub(rstr, \"_\", title)  # 替換為下劃線\n",
    "\n",
    "#     i=1\n",
    "#     sum=0\n",
    "#     besum=1\n",
    "\n",
    "#     while besum != sum:\n",
    "#         if i == 1:\n",
    "#             besum = 0\n",
    "#         else:\n",
    "#             besum = sum\n",
    "#         comments = youtube.video_comments()\n",
    "#         sum = len(comments['body'])\n",
    "#         i +=1\n",
    "    \n",
    "    with open(foldername + new_title + '.txt', 'w', encoding='utf-8') as f:\n",
    "        f.write(str(info))\n",
    "        f.write(\"\\n \\n--------------------------------------------------------------------------------\\n \\n\")\n",
    "#         f.write(str(comments['body']))\n",
    "    youtube.end()\n",
    "    \n",
    "os.rename(\"yt-scraper\",cn)\n",
    "scrfilename = cn + \"\\\\test.txt\"             #修改前的檔名\n",
    "nowfilename = cn + \"\\\\\" + cn + \".txt\"       #修改的檔名\n",
    "os.rename(scrfilename, nowfilename)\n"
   ]
  }
 ],
 "metadata": {
  "kernelspec": {
   "display_name": "Python 3",
   "language": "python",
   "name": "python3"
  },
  "language_info": {
   "codemirror_mode": {
    "name": "ipython",
    "version": 3
   },
   "file_extension": ".py",
   "mimetype": "text/x-python",
   "name": "python",
   "nbconvert_exporter": "python",
   "pygments_lexer": "ipython3",
   "version": "3.6.8"
  }
 },
 "nbformat": 4,
 "nbformat_minor": 5
}
