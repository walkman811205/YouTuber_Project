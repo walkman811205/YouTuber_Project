{
 "cells": [
  {
   "cell_type": "code",
   "execution_count": 6,
   "id": "dying-dancing",
   "metadata": {},
   "outputs": [
    {
     "name": "stdout",
     "output_type": "stream",
     "text": [
      "Requirement already satisfied: azure-cognitiveservices-vision-computervision in c:\\users\\tibame\\.conda\\envs\\azure\\lib\\site-packages (0.5.0)\n",
      "Requirement already satisfied: azure-common~=1.1 in c:\\users\\tibame\\.conda\\envs\\azure\\lib\\site-packages (from azure-cognitiveservices-vision-computervision) (1.1.26)\n",
      "Requirement already satisfied: msrest>=0.5.0 in c:\\users\\tibame\\.conda\\envs\\azure\\lib\\site-packages (from azure-cognitiveservices-vision-computervision) (0.6.21)\n",
      "Requirement already satisfied: requests-oauthlib>=0.5.0 in c:\\users\\tibame\\.conda\\envs\\azure\\lib\\site-packages (from msrest>=0.5.0->azure-cognitiveservices-vision-computervision) (1.3.0)\n",
      "Requirement already satisfied: requests~=2.16 in c:\\users\\tibame\\appdata\\roaming\\python\\python38\\site-packages (from msrest>=0.5.0->azure-cognitiveservices-vision-computervision) (2.25.1)\n",
      "Requirement already satisfied: certifi>=2017.4.17 in c:\\users\\tibame\\appdata\\roaming\\python\\python38\\site-packages (from msrest>=0.5.0->azure-cognitiveservices-vision-computervision) (2020.12.5)\n",
      "Requirement already satisfied: isodate>=0.6.0 in c:\\users\\tibame\\.conda\\envs\\azure\\lib\\site-packages (from msrest>=0.5.0->azure-cognitiveservices-vision-computervision) (0.6.0)\n",
      "Requirement already satisfied: six in c:\\users\\tibame\\.conda\\envs\\azure\\lib\\site-packages (from isodate>=0.6.0->msrest>=0.5.0->azure-cognitiveservices-vision-computervision) (1.15.0)\n",
      "Requirement already satisfied: chardet<5,>=3.0.2 in c:\\users\\tibame\\appdata\\roaming\\python\\python38\\site-packages (from requests~=2.16->msrest>=0.5.0->azure-cognitiveservices-vision-computervision) (4.0.0)\n",
      "Requirement already satisfied: idna<3,>=2.5 in c:\\users\\tibame\\appdata\\roaming\\python\\python38\\site-packages (from requests~=2.16->msrest>=0.5.0->azure-cognitiveservices-vision-computervision) (2.10)\n",
      "Requirement already satisfied: urllib3<1.27,>=1.21.1 in c:\\users\\tibame\\appdata\\roaming\\python\\python38\\site-packages (from requests~=2.16->msrest>=0.5.0->azure-cognitiveservices-vision-computervision) (1.26.3)\n",
      "Requirement already satisfied: oauthlib>=3.0.0 in c:\\users\\tibame\\.conda\\envs\\azure\\lib\\site-packages (from requests-oauthlib>=0.5.0->msrest>=0.5.0->azure-cognitiveservices-vision-computervision) (3.1.0)\n",
      "Note: you may need to restart the kernel to use updated packages.\n"
     ]
    }
   ],
   "source": [
    "pip install azure-cognitiveservices-vision-computervision"
   ]
  },
  {
   "cell_type": "code",
   "execution_count": 20,
   "id": "requested-method",
   "metadata": {},
   "outputs": [],
   "source": [
    "from azure.cognitiveservices.vision.customvision.training import CustomVisionTrainingClient\n",
    "from azure.cognitiveservices.vision.customvision.prediction import CustomVisionPredictionClient\n",
    "from azure.cognitiveservices.vision.customvision.training.models import ImageFileCreateBatch, ImageFileCreateEntry, Region\n",
    "from msrest.authentication import ApiKeyCredentials\n",
    "import time\n",
    "\n",
    "# Replace with valid values\n",
    "ENDPOINT = \"https://tfb112.cognitiveservices.azure.com/\"\n",
    "training_key = \"https://tfb112.cognitiveservices.azure.com/\"\n",
    "prediction_key = \"dc2ae4575a3043dc8cb64ccd317966ed\"\n",
    "prediction_resource_id = \"7b2527f1-19d2-47f0-b1ab-33cfceca1e3b\"\n",
    "\n",
    "credentials = ApiKeyCredentials(in_headers={\"Training-key\": training_key})\n",
    "trainer = CustomVisionTrainingClient(ENDPOINT, credentials)\n",
    "prediction_credentials = ApiKeyCredentials(in_headers={\"Prediction-key\": prediction_key})\n",
    "predictor = CustomVisionPredictionClient(ENDPOINT, prediction_credentials)\n",
    "\n",
    "publish_iteration_name = \"starface\"\n",
    "\n",
    "credentials = ApiKeyCredentials(in_headers={\"Training-key\": training_key})\n",
    "trainer = CustomVisionTrainingClient(ENDPOINT, credentials)\n",
    "\n",
    "# # Create a new project\n",
    "# print (\"Creating project...\")\n",
    "# project = trainer.create_project(\"My New Project\")\n",
    "\n",
    "# # Make two tags in the new project\n",
    "# hemlock_tag = trainer.create_tag(project.id, \"周杰倫\")\n",
    "# cherry_tag = trainer.create_tag(project.id, \"王力宏\")\n",
    "\n",
    "#使用絕對路徑\n",
    "base_image_location = \"C:\\\\Users\\\\Tibame\\\\Desktop\\\\AzureStarFace\\\\\"\n",
    "\n",
    "# print(\"Adding images...\")\n",
    "\n",
    "# image_list = []\n",
    "\n",
    "# for image_num in range(1, 11):\n",
    "#     file_name = \"hemlock_{}.jpg\".format(image_num)\n",
    "#     with open(base_image_location + \"/Desktop/AzureStarFace/周杰倫\" + file_name, \"rb\") as image_contents:\n",
    "#         image_list.append(ImageFileCreateEntry(name=file_name, contents=image_contents.read(), tag_ids=[hemlock_tag.id]))\n",
    "\n",
    "# for image_num in range(1, 11):\n",
    "#     file_name = \"japanese_cherry_{}.jpg\".format(image_num)\n",
    "#     with open(base_image_location + \"/Desktop/AzureStarFace/王力宏\" + file_name, \"rb\") as image_contents:\n",
    "#         image_list.append(ImageFileCreateEntry(name=file_name, contents=image_contents.read(), tag_ids=[cherry_tag.id]))\n",
    "\n",
    "# upload_result = trainer.create_images_from_files(project.id, ImageFileCreateBatch(images=image_list))\n",
    "# if not upload_result.is_batch_successful:\n",
    "#     print(\"Image batch upload failed.\")\n",
    "#     for image in upload_result.images:\n",
    "#         print(\"Image status: \", image.status)\n",
    "#     exit(-1)\n",
    "\n",
    "# print (\"Training...\")\n",
    "# iteration = trainer.train_project(project.id)\n",
    "# while (iteration.status != \"Completed\"):\n",
    "#     iteration = trainer.get_iteration(project.id, iteration.id)\n",
    "#     print (\"Training status: \" + iteration.status)\n",
    "#     time.sleep(1)\n",
    "    \n",
    "# # The iteration is now trained. Publish it to the project endpoint\n",
    "# trainer.publish_iteration(project.id, iteration.id, publish_iteration_name, prediction_resource_id)\n",
    "# print (\"Done!\")\n"
   ]
  },
  {
   "cell_type": "code",
   "execution_count": 26,
   "id": "touched-gospel",
   "metadata": {},
   "outputs": [
    {
     "name": "stdout",
     "output_type": "stream",
     "text": [
      "與你相似的明星:\n",
      "\t王柏傑: 71.47%\n",
      "\t林柏宏: 14.59%\n",
      "\t劉以豪: 6.53%\n",
      "\t周杰倫: 6.25%\n",
      "\t王力宏: 1.17%\n"
     ]
    }
   ],
   "source": [
    "# <snippet_test>\n",
    "# Now there is a trained endpoint that can be used to make a prediction\n",
    "prediction_credentials = ApiKeyCredentials(in_headers={\"Prediction-key\": prediction_key})\n",
    "predictor = CustomVisionPredictionClient(ENDPOINT, prediction_credentials)\n",
    "\n",
    "\n",
    "#用本機的照片進行測試\n",
    "with open(base_image_location + \"test\\\\S__52862985.jpg\", \"rb\") as image_contents:\n",
    "    results = predictor.classify_image(\n",
    "        '7b2527f1-19d2-47f0-b1ab-33cfceca1e3b', publish_iteration_name, image_contents.read())\n",
    "        print(\"與你最相似的明星:\")\n",
    "\n",
    "# Display the results.\n",
    "    for prediction in results.predictions:\n",
    "        print(\"\\t\" + prediction.tag_name +\n",
    "              \": {0:.2f}%\".format(prediction.probability * 100))"
   ]
  }
 ],
 "metadata": {
  "kernelspec": {
   "display_name": "Python 3",
   "language": "python",
   "name": "python3"
  },
  "language_info": {
   "codemirror_mode": {
    "name": "ipython",
    "version": 3
   },
   "file_extension": ".py",
   "mimetype": "text/x-python",
   "name": "python",
   "nbconvert_exporter": "python",
   "pygments_lexer": "ipython3",
   "version": "3.8.8"
  }
 },
 "nbformat": 4,
 "nbformat_minor": 5
}
